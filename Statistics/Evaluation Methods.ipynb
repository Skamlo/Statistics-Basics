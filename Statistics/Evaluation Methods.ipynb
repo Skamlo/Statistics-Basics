{
 "cells": [
  {
   "cell_type": "markdown",
   "metadata": {},
   "source": [
    "# Libraries"
   ]
  },
  {
   "cell_type": "code",
   "execution_count": 9,
   "metadata": {},
   "outputs": [],
   "source": [
    "import numpy as np\n",
    "import pandas as pd\n",
    "import matplotlib.pyplot as plt\n",
    "import seaborn as sns\n",
    "\n",
    "import sklearn.datasets as datasets\n",
    "from sklearn.linear_model import LogisticRegression, LinearRegression\n",
    "\n",
    "from sklearn.model_selection import train_test_split\n",
    "\n",
    "import warnings\n",
    "warnings.filterwarnings(\"ignore\")"
   ]
  },
  {
   "cell_type": "markdown",
   "metadata": {},
   "source": [
    "# Classification Evaluation\n",
    "\n",
    "Sources:\n",
    "- <a href=\"https://towardsdatascience.com/accuracy-precision-recall-or-f1-331fb37c5cb9\">Koo Ping Shung - Accuracy, Precision, Recall or F1?</a>\n",
    "- <a href=\"https://www.youtube.com/watch?v=LbX4X71-TFI\">AssemblyAI - How to evaluate ML models</a>"
   ]
  },
  {
   "cell_type": "markdown",
   "metadata": {},
   "source": [
    "### Model"
   ]
  },
  {
   "cell_type": "code",
   "execution_count": 17,
   "metadata": {},
   "outputs": [],
   "source": [
    "data = datasets.load_breast_cancer()\n",
    "X, y = data.data, data.target\n",
    "X_train, X_test, y_train, y_test = train_test_split(X, y, test_size=0.2, random_state=42)\n",
    "\n",
    "logReg = LogisticRegression()\n",
    "logReg.fit(X_train, y_train)\n",
    "\n",
    "y_pred = logReg.predict(X_test)"
   ]
  },
  {
   "cell_type": "markdown",
   "metadata": {},
   "source": [
    "### Confusion Matrix\n",
    "\n",
    "<center>\n",
    "\n",
    "<table style=\"color: black;\">\n",
    "  <tr style=\"background-color: #dbdbdb;\">\n",
    "    <th></th>\n",
    "    <th>Predicted <br> No</th>\n",
    "    <th>Predicted <br> Yes</th>\n",
    "  </tr>\n",
    "  <tr style=\"background-color: #f2f2f2;\">\n",
    "    <td style=\"background-color: #dbdbdb;\"><b>Actual <br> No</b></td>\n",
    "    <td>TN - True Negative</td>\n",
    "    <td>FP - False Positive</td>\n",
    "  </tr>\n",
    "  <tr style=\"background-color: #f2f2f2;\">\n",
    "    <td style=\"background-color: #dbdbdb;\"><b>Actual <br> Yes</b></td>\n",
    "    <td>FN - False Negative</td>\n",
    "    <td>TP - True Positive</td>\n",
    "  </tr>\n",
    "</table>\n",
    "\n",
    "</center>"
   ]
  },
  {
   "cell_type": "code",
   "execution_count": 4,
   "metadata": {},
   "outputs": [
    {
     "data": {
      "image/png": "[encoded data removed]",
      "text/plain": [
       "<Figure size 600x600 with 2 Axes>"
      ]
     },
     "metadata": {},
     "output_type": "display_data"
    }
   ],
   "source": [
    "from sklearn.metrics import confusion_matrix\n",
    "\n",
    "cnfMtx = confusion_matrix(y_test, y_pred)\n",
    "\n",
    "plt.figure(figsize=(6, 6))\n",
    "sns.heatmap(cnfMtx, annot=True, cmap=\"Reds\")\n",
    "plt.xticks([0.5,1.5], data.target_names)\n",
    "plt.yticks([0.5,1.5], data.target_names)\n",
    "plt.xlabel(\"Predicted values\")\n",
    "plt.ylabel(\"Real values\")\n",
    "plt.show()"
   ]
  },
  {
   "cell_type": "markdown",
   "metadata": {},
   "source": [
    "### Accuracy\n",
    "\n",
    "$$\n",
    "\\text{Accuracy} = \\frac{\n",
    "  \\textcolor{#b3ffa6}{TN}+\\textcolor{#b3ffa6}{TP}}{\n",
    "  \\textcolor{#b3ffa6}{TN}+\\textcolor{#ffa6a6}{FP}+\\textcolor{#ffa6a6}{FN}+\\textcolor{#b3ffa6}{TP}}\n",
    "$$\n",
    "\n",
    "<br>\n",
    "\n",
    "<center>\n",
    "\n",
    "<table style=\"color: black;\">\n",
    "  <tr style=\"background-color: #dbdbdb;\">\n",
    "    <th></th>\n",
    "    <th>Predicted <br> No</th>\n",
    "    <th>Predicted <br> Yes</th>\n",
    "  </tr>\n",
    "  <tr style=\"background-color: #f2f2f2;\">\n",
    "    <td style=\"background-color: #dbdbdb;\"><b>Actual <br> No</b></td>\n",
    "    <td style=\"background-color: #b3ffa6;\">TN - True Negative</td>\n",
    "    <td style=\"background-color: #ffa6a6;\">FP - False Positive</td>\n",
    "  </tr>\n",
    "  <tr style=\"background-color: #f2f2f2;\">\n",
    "    <td style=\"background-color: #dbdbdb;\"><b>Actual <br> Yes</b></td>\n",
    "    <td style=\"background-color: #ffa6a6;\">FN - False Negative</td>\n",
    "    <td style=\"background-color: #b3ffa6;\">TP - True Positive</td>\n",
    "  </tr>\n",
    "</table>\n",
    "\n",
    "</center>"
   ]
  },
  {
   "cell_type": "code",
   "execution_count": 5,
   "metadata": {},
   "outputs": [
    {
     "name": "stdout",
     "output_type": "stream",
     "text": [
      "Accuracy 96%\n"
     ]
    }
   ],
   "source": [
    "from sklearn.metrics import accuracy_score\n",
    "\n",
    "acc = accuracy_score(y_test, y_pred)\n",
    "\n",
    "print(\"Accuracy {:.0f}%\".format(\n",
    "    acc*100\n",
    "))"
   ]
  },
  {
   "cell_type": "markdown",
   "metadata": {},
   "source": [
    "### Precision\n",
    "\n",
    "$$\n",
    "\\text{Precision} = \\frac{\n",
    "  \\textcolor{#b3ffa6}{TP}}{\n",
    "  \\textcolor{#b3ffa6}{TP}+\\textcolor{#ffa6a6}{FP}}\n",
    "$$\n",
    "\n",
    "<br>\n",
    "\n",
    "<center>\n",
    "\n",
    "<table style=\"color: black;\">\n",
    "  <tr style=\"background-color: #dbdbdb;\">\n",
    "    <th></th>\n",
    "    <th>Predicted <br> No</th>\n",
    "    <th>Predicted <br> Yes</th>\n",
    "  </tr>\n",
    "  <tr style=\"background-color: #f2f2f2;\">\n",
    "    <td style=\"background-color: #dbdbdb;\"><b>Actual <br> No</b></td>\n",
    "    <td style=\"background-color: ;\">TN - True Negative</td>\n",
    "    <td style=\"background-color: #ffa6a6;\">FP - False Positive</td>\n",
    "  </tr>\n",
    "  <tr style=\"background-color: #f2f2f2;\">\n",
    "    <td style=\"background-color: #dbdbdb;\"><b>Actual <br> Yes</b></td>\n",
    "    <td style=\"background-color: ;\">FN - False Negative</td>\n",
    "    <td style=\"background-color: #b3ffa6;\">TP - True Positive</td>\n",
    "  </tr>\n",
    "</table>\n",
    "\n",
    "</center>"
   ]
  },
  {
   "cell_type": "code",
   "execution_count": 79,
   "metadata": {},
   "outputs": [
    {
     "name": "stdout",
     "output_type": "stream",
     "text": [
      "Precision: 96%\n"
     ]
    }
   ],
   "source": [
    "from sklearn.metrics import precision_score\n",
    "\n",
    "pre = precision_score(y_test, y_pred)\n",
    "\n",
    "print(\"Precision: {:.0f}%\".format(\n",
    "    pre*100\n",
    "))"
   ]
  },
  {
   "cell_type": "markdown",
   "metadata": {},
   "source": [
    "### Recall\n",
    "\n",
    "$$\n",
    "\\text{Recall} = \\frac{\n",
    "  \\textcolor{#b3ffa6}{TP}}{\n",
    "  \\textcolor{#b3ffa6}{TP}+\\textcolor{#ffa6a6}{FN}}\n",
    "$$\n",
    "\n",
    "<br>\n",
    "\n",
    "<center>\n",
    "\n",
    "<table style=\"color: black;\">\n",
    "  <tr style=\"background-color: #dbdbdb;\">\n",
    "    <th></th>\n",
    "    <th>Predicted <br> No</th>\n",
    "    <th>Predicted <br> Yes</th>\n",
    "  </tr>\n",
    "  <tr style=\"background-color: #f2f2f2;\">\n",
    "    <td style=\"background-color: #dbdbdb;\"><b>Actual <br> No</b></td>\n",
    "    <td style=\"background-color: ;\">TN - True Negative</td>\n",
    "    <td style=\"background-color: ;\">FP - False Positive</td>\n",
    "  </tr>\n",
    "  <tr style=\"background-color: #f2f2f2;\">\n",
    "    <td style=\"background-color: #dbdbdb;\"><b>Actual <br> Yes</b></td>\n",
    "    <td style=\"background-color: #ffa6a6;\">FN - False Negative</td>\n",
    "    <td style=\"background-color: #b3ffa6;\">TP - True Positive</td>\n",
    "  </tr>\n",
    "</table>\n",
    "\n",
    "</center>"
   ]
  },
  {
   "cell_type": "code",
   "execution_count": 80,
   "metadata": {},
   "outputs": [
    {
     "name": "stdout",
     "output_type": "stream",
     "text": [
      "Recall: 99%\n"
     ]
    }
   ],
   "source": [
    "from sklearn.metrics import recall_score\n",
    "\n",
    "rec = recall_score(y_test, y_pred)\n",
    "\n",
    "print(\"Recall: {:.0f}%\".format(\n",
    "    rec*100\n",
    "))"
   ]
  },
  {
   "cell_type": "markdown",
   "metadata": {},
   "source": [
    "### F1-Score\n",
    "\n",
    "$$\n",
    "\\text{F1} = 2 \\cdot \\frac{{\\text{Precision}} \\cdot \\text{Recall}}{\\text{Precision} + \\text{Recall}} = \n",
    "\\frac{2 \\hspace{0.2em}\n",
    "\\textcolor{#b3ffa6}{TP}}{\n",
    "2 \\hspace{0.2em} \\textcolor{#b3ffa6}{TP} + \\textcolor{#ffa6a6}{FN} + \\textcolor{#ffa6a6}{FP}\n",
    "}\n",
    "$$\n",
    "\n",
    "<br>\n",
    "\n",
    "<center>\n",
    "\n",
    "<table style=\"color: black;\">\n",
    "  <tr style=\"background-color: #dbdbdb;\">\n",
    "    <th></th>\n",
    "    <th>Predicted <br> No</th>\n",
    "    <th>Predicted <br> Yes</th>\n",
    "  </tr>\n",
    "  <tr style=\"background-color: #f2f2f2;\">\n",
    "    <td style=\"background-color: #dbdbdb;\"><b>Actual <br> No</b></td>\n",
    "    <td style=\"background-color: ;\">TN - True Negative</td>\n",
    "    <td style=\"background-color: #ffa6a6;\">FP - False Positive</td>\n",
    "  </tr>\n",
    "  <tr style=\"background-color: #f2f2f2;\">\n",
    "    <td style=\"background-color: #dbdbdb;\"><b>Actual <br> Yes</b></td>\n",
    "    <td style=\"background-color: #ffa6a6;\">FN - False Negative</td>\n",
    "    <td style=\"background-color: #b3ffa6;\">TP - True Positive</td>\n",
    "  </tr>\n",
    "</table>\n",
    "\n",
    "</center>"
   ]
  },
  {
   "cell_type": "code",
   "execution_count": 81,
   "metadata": {},
   "outputs": [
    {
     "name": "stdout",
     "output_type": "stream",
     "text": [
      "F1-score: 97%\n"
     ]
    }
   ],
   "source": [
    "from sklearn.metrics import f1_score\n",
    "\n",
    "f1 = f1_score(y_test, y_pred)\n",
    "\n",
    "print(\"F1-score: {:.0f}%\".format(\n",
    "    f1*100\n",
    "))"
   ]
  },
  {
   "cell_type": "markdown",
   "metadata": {},
   "source": [
    "### Crossentropy\n",
    "\n",
    "$$\n",
    "\\text{Log Loss} = -\\sum_{i=1}^{n} y_i \\cdot \\log{\\hat{y}_i}\n",
    "$$"
   ]
  },
  {
   "cell_type": "code",
   "execution_count": 19,
   "metadata": {},
   "outputs": [
    {
     "name": "stdout",
     "output_type": "stream",
     "text": [
      "Log Loss: 1.26469\n"
     ]
    }
   ],
   "source": [
    "from sklearn.metrics import log_loss\n",
    "\n",
    "logLoss = log_loss(y_test, y_pred)\n",
    "\n",
    "print(\"Log Loss: {:.5f}\".format(\n",
    "    logLoss\n",
    "))"
   ]
  },
  {
   "cell_type": "markdown",
   "metadata": {},
   "source": [
    "# Regression Evaluation\n",
    "\n",
    "Sources:\n",
    "- <a href=\"https://www.youtube.com/watch?v=LbX4X71-TFI\">AssemblyAI - How to evaluate ML models</a>\n",
    "- <a href=\"https://www.youtube.com/watch?v=bMccdk8EdGo\">StatQuest - R-squared</a>\n",
    "- <a href=\"https://medium.com/analytics-vidhya/r-squared-formula-explanation-6dc0096ce3ba\">Saurabh Gupta - R-Squared: Formula Explanation</a>"
   ]
  },
  {
   "cell_type": "markdown",
   "metadata": {},
   "source": [
    "### Model"
   ]
  },
  {
   "cell_type": "code",
   "execution_count": 13,
   "metadata": {},
   "outputs": [],
   "source": [
    "data = sns.load_dataset(\"mpg\").dropna()\n",
    "\n",
    "X = data.drop([\"mpg\", \"origin\", \"name\"], axis=1)\n",
    "X = pd.concat([X, pd.get_dummies(data['origin'])], axis=1)\n",
    "X = X.to_numpy().astype(\"float64\")\n",
    "\n",
    "y = data['mpg'].to_numpy().astype(\"float64\")\n",
    "\n",
    "X_train, X_test, y_train, y_test = train_test_split(X, y, test_size=0.2, random_state=42)\n",
    "\n",
    "linReg = LinearRegression()\n",
    "linReg.fit(X_train, y_train)\n",
    "\n",
    "y_pred = linReg.predict(X_test)"
   ]
  },
  {
   "cell_type": "markdown",
   "metadata": {},
   "source": [
    "### MAE (Mean Absolut Error)\n",
    "\n",
    "$$\n",
    "\\text{MAE} = \\frac{1}{n} \\sum_{i=0}^{n} \\left| y_i - \\hat{y}_i \\right|\n",
    "$$"
   ]
  },
  {
   "cell_type": "code",
   "execution_count": 15,
   "metadata": {},
   "outputs": [
    {
     "name": "stdout",
     "output_type": "stream",
     "text": [
      "MAE: 2.46200\n"
     ]
    }
   ],
   "source": [
    "from sklearn.metrics import mean_absolute_error\n",
    "\n",
    "mae = mean_absolute_error(y_test, y_pred)\n",
    "\n",
    "print(\"MAE: {:.5f}\".format(\n",
    "    mae\n",
    "))"
   ]
  },
  {
   "cell_type": "markdown",
   "metadata": {},
   "source": [
    "### MSE (Mean Squared Error) and RMSE (Root Mean Squared Error)\n",
    "\n",
    "$$\n",
    "\\text{MSE} = \\frac{1}{n} \\sum_{i=0}^{n} \\left( y_i - \\hat{y}_i \\right)^2\n",
    "$$\n",
    "\n",
    "$$\n",
    "\\text{RMSE} = \\sqrt{\\text{MSE}} = \\sqrt{ \\frac{1}{n} \\sum_{i=0}^{n} \\left( y_i - \\hat{y}_i \\right)^2 }\n",
    "$$"
   ]
  },
  {
   "cell_type": "code",
   "execution_count": 16,
   "metadata": {},
   "outputs": [
    {
     "name": "stdout",
     "output_type": "stream",
     "text": [
      "MSE: 10.60228\n",
      "RMSE: 3.25611\n"
     ]
    }
   ],
   "source": [
    "from sklearn.metrics import mean_squared_error\n",
    "\n",
    "mse = mean_squared_error(y_test, y_pred)\n",
    "\n",
    "print(\"MSE: {:.5f}\\nRMSE: {:.5f}\".format(\n",
    "    mse,\n",
    "    np.sqrt(mse)\n",
    "))"
   ]
  },
  {
   "cell_type": "markdown",
   "metadata": {},
   "source": [
    "### R2 (Coefficient of Determination)\n",
    "\n",
    "$R^2$ is the percentage of variation explained by the relationship between two variables.\n",
    "\n",
    "$$\n",
    "R^2 = 1 - \\frac{ \\sum_{i=1}^{m} \\left( y_i - \\hat{y}_i \\right)^2 }{ \\sum_{i=1}^{m} \\left( y_i - \\bar{y}_i \\right)^2 }\n",
    "$$"
   ]
  },
  {
   "cell_type": "code",
   "execution_count": 22,
   "metadata": {},
   "outputs": [
    {
     "name": "stdout",
     "output_type": "stream",
     "text": [
      "R-Squared: 0.85\n"
     ]
    }
   ],
   "source": [
    "from sklearn.metrics import r2_score\n",
    "\n",
    "r2 = r2_score(y_test, y_pred)\n",
    "\n",
    "print(\"R-Squared: {:.2f}\".format(\n",
    "    r2\n",
    "))"
   ]
  },
  {
   "cell_type": "markdown",
   "metadata": {},
   "source": [
    "### Cosine Similarity\n",
    "\n",
    "$$\n",
    "\\vec{u} = \\left[ \\begin{array}{c} u_1 \\\\ u_2 \\\\ ... \\\\ u_n \\end{array} \\right]\n",
    "\\hspace{3em}\n",
    "\\vec{v} = \\left[ \\begin{array}{c} v_1 \\\\ v_2 \\\\ ... \\\\ v_n \\end{array} \\right]\n",
    "$$\n",
    "\n",
    "<br>\n",
    "\n",
    "$$\n",
    "\\text{Cosine Similarity} = \\cos{\\theta}\n",
    "= \\frac{ \\vec{u} \\cdot \\vec{v} }{ \\left\\| \\vec{u} \\right\\| \\left\\| \\vec{v} \\right\\| }\n",
    "= \\frac{ \\sum_{i=1}^n \\vec{u}_i \\vec{v}_i }{ \\sqrt{ \\sum_{i=1}^n \\vec{u}_i^2 } \\sqrt{ \\sum_{i=1}^n \\vec{v}_i^2 } }\n",
    "$$"
   ]
  },
  {
   "cell_type": "code",
   "execution_count": 29,
   "metadata": {},
   "outputs": [
    {
     "name": "stdout",
     "output_type": "stream",
     "text": [
      "Cosine Similarity: 0.97232\n"
     ]
    }
   ],
   "source": [
    "from sklearn.metrics.pairwise import cosine_similarity\n",
    "\n",
    "cosSim = cosine_similarity(y_test.reshape((1, -1)), y_pred.reshape((1, -1)))\n",
    "cosSim = cosSim[0][0]\n",
    "\n",
    "print(\"Cosine Similarity: {:.5f}\".format(\n",
    "    cosSim\n",
    "))"
   ]
  }
 ],
 "metadata": {
  "kernelspec": {
   "display_name": "Python 3",
   "language": "python",
   "name": "python3"
  },
  "language_info": {
   "codemirror_mode": {
    "name": "ipython",
    "version": 3
   },
   "file_extension": ".py",
   "mimetype": "text/x-python",
   "name": "python",
   "nbconvert_exporter": "python",
   "pygments_lexer": "ipython3",
   "version": "3.12.2"
  }
 },
 "nbformat": 4,
 "nbformat_minor": 2
}
