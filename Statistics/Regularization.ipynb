{
 "cells": [
  {
   "cell_type": "markdown",
   "metadata": {},
   "source": [
    "# Libraries"
   ]
  },
  {
   "cell_type": "code",
   "execution_count": 37,
   "metadata": {},
   "outputs": [],
   "source": [
    "import numpy as np\n",
    "import pandas as pd\n",
    "import matplotlib.pyplot as plt\n",
    "import seaborn as sns\n",
    "from sklearn.model_selection import train_test_split\n",
    "from sklearn.metrics import mean_squared_error"
   ]
  },
  {
   "cell_type": "markdown",
   "metadata": {},
   "source": [
    "# Data"
   ]
  },
  {
   "cell_type": "code",
   "execution_count": 35,
   "metadata": {},
   "outputs": [],
   "source": [
    "data = sns.load_dataset(\"mpg\").dropna()\n",
    "\n",
    "X = data.drop([\"mpg\", \"name\", \"origin\"], axis=1)\n",
    "X = pd.concat([X, pd.get_dummies(data[\"origin\"])], axis=1)\n",
    "X = X.to_numpy().astype(\"float64\")\n",
    "\n",
    "y = data[\"mpg\"].to_numpy().astype(\"float64\")\n",
    "\n",
    "X_train, X_test, y_train, y_test = train_test_split(X, y, test_size=0.2, random_state=42)"
   ]
  },
  {
   "cell_type": "markdown",
   "metadata": {},
   "source": [
    "# Ridge (L2) Regression\n",
    "\n",
    "Sources:\n",
    "- <a href=\"https://www.youtube.com/watch?v=Q81RR3yKn30\">StatQuest - Ridge (L2) Regression</a>\n",
    "- <a href=\"https://towardsdatascience.com/regularization-in-machine-learning-76441ddcf99a\">Prashant Gupta - Regularization in Machine Learning</a>\n",
    "\n",
    "$$\n",
    "RSS = \\sum_{i=1}^{n} \\left( y_i - \\beta_0 - \\sum_{j=1}^{p} \\beta_j x_{ij} \\right)^2\n",
    "$$\n",
    "\n",
    "$$\n",
    "J \\left( \\beta \\right) = RSS + \\lambda \\sum_{j=1}^{p} \\beta_j^2\n",
    "= \\sum_{i=1}^{n} \\left( y_i - \\beta_0 - \\sum_{j=1}^{p} \\beta_j x_{ij} \\right)^2 + \\lambda \\sum_{j=1}^{p} \\beta_j^2\n",
    "$$"
   ]
  },
  {
   "cell_type": "code",
   "execution_count": 40,
   "metadata": {},
   "outputs": [
    {
     "name": "stdout",
     "output_type": "stream",
     "text": [
      "Linear regression RMSE: 3.25611\n",
      "Ridge regression RMSE: 3.25321\n"
     ]
    }
   ],
   "source": [
    "from sklearn.linear_model import Ridge, LinearRegression\n",
    "\n",
    "linReg = LinearRegression()\n",
    "linReg.fit(X_train, y_train)\n",
    "\n",
    "ridge = Ridge()\n",
    "ridge.fit(X_train, y_train)\n",
    "\n",
    "linRegMSE = mean_squared_error(y_test, linReg.predict(X_test))\n",
    "ridgeMSE = mean_squared_error(y_test, ridge.predict(X_test))\n",
    "\n",
    "print(\"Linear regression RMSE: {:.5f}\\nRidge regression RMSE: {:.5f}\".format(\n",
    "    np.sqrt(linRegMSE),\n",
    "    np.sqrt(ridgeMSE)\n",
    "))"
   ]
  },
  {
   "cell_type": "markdown",
   "metadata": {},
   "source": [
    "# Lasso (L1) Regression\n",
    "\n",
    "Sources:\n",
    "- <a href=\"https://www.youtube.com/watch?v=NGf0voTMlcs\">Statquest - Lasso (L1) Regression</a>\n",
    "- <a href=\"https://towardsdatascience.com/regularization-in-machine-learning-76441ddcf99a\">Prashant Gupta - Regularization in Machine Learning</a>\n",
    "\n",
    "$$\n",
    "J \\left( \\beta \\right) = RSS + \\lambda \\sum_{j=1}^{p} \\left| \\beta_j \\right|\n",
    "= \\sum_{i=1}^{n} \\left( y_i - \\beta_0 - \\sum_{j=1}^{p} \\beta_j x_{ij} \\right)^2 + \\lambda \\sum_{j=1}^{p} \\left| \\beta_j \\right|\n",
    "$$"
   ]
  },
  {
   "cell_type": "code",
   "execution_count": 42,
   "metadata": {},
   "outputs": [
    {
     "name": "stdout",
     "output_type": "stream",
     "text": [
      "Linear regression RMSE: 3.25611\n",
      "Lasso regression RMSE: 3.26483\n"
     ]
    }
   ],
   "source": [
    "from sklearn.linear_model import Lasso, LinearRegression\n",
    "\n",
    "linReg = LinearRegression()\n",
    "linReg.fit(X_train, y_train)\n",
    "\n",
    "lasso = Lasso()\n",
    "lasso.fit(X_train, y_train)\n",
    "\n",
    "linRegMSE = mean_squared_error(y_test, linReg.predict(X_test))\n",
    "lassoMSE = mean_squared_error(y_test, lasso.predict(X_test))\n",
    "\n",
    "print(\"Linear regression RMSE: {:.5f}\\nLasso regression RMSE: {:.5f}\".format(\n",
    "    np.sqrt(linRegMSE),\n",
    "    np.sqrt(lassoMSE)\n",
    "))"
   ]
  }
 ],
 "metadata": {
  "kernelspec": {
   "display_name": "Python 3",
   "language": "python",
   "name": "python3"
  },
  "language_info": {
   "codemirror_mode": {
    "name": "ipython",
    "version": 3
   },
   "file_extension": ".py",
   "mimetype": "text/x-python",
   "name": "python",
   "nbconvert_exporter": "python",
   "pygments_lexer": "ipython3",
   "version": "3.12.2"
  }
 },
 "nbformat": 4,
 "nbformat_minor": 2
}
