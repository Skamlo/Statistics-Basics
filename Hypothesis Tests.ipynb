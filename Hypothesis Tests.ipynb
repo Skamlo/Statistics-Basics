{
 "cells": [
  {
   "cell_type": "markdown",
   "metadata": {},
   "source": [
    "#### Libraries"
   ]
  },
  {
   "cell_type": "code",
   "execution_count": 1,
   "metadata": {},
   "outputs": [],
   "source": [
    "import numpy as np\n",
    "import pandas as pd\n",
    "from scipy import stats"
   ]
  },
  {
   "cell_type": "markdown",
   "metadata": {},
   "source": [
    "# 1-sample z-test for mean\n",
    "\n",
    "Sources:<br/>\n",
    "&nbsp;&nbsp;&nbsp;&nbsp;<a href=\"https://www.youtube.com/watch?v=2GU_R7G5m-8\">zedstatistics - Youtube</a><br/>\n",
    "&nbsp;&nbsp;&nbsp;&nbsp;<a href=\"https://www.youtube.com/watch?v=zJ8e_wAWUzE\">The Organic Chemistry Tutor - Youtube</a>\n",
    "\n",
    "$$\n",
    "z=\\frac{\\bar{x}-\\mu}{\\frac{\\sigma}{\\sqrt{n}}}\n",
    "$$\n",
    "\n",
    "$$\n",
    "\\begin{array}{l}\n",
    "z - \\text{z-statistic} \\\\\n",
    "\\bar{x} - \\text{samples mean} \\\\\n",
    "\\mu - \\text{population mean} \\\\\n",
    "\\sigma - \\text{population standard deviation} \\\\\n",
    "n - \\text{number of samples}\n",
    "\\end{array}\n",
    "$$"
   ]
  },
  {
   "cell_type": "code",
   "execution_count": 57,
   "metadata": {},
   "outputs": [],
   "source": [
    "data = np.random.normal(loc=3.6, size=25)\n",
    "populationMean = 4\n",
    "populationStd = 2"
   ]
  },
  {
   "cell_type": "code",
   "execution_count": 22,
   "metadata": {},
   "outputs": [
    {
     "name": "stdout",
     "output_type": "stream",
     "text": [
      "one-tailed: 7.1%\n",
      "two-tailed: 14.3%\n"
     ]
    }
   ],
   "source": [
    "z = (data.mean() - populationMean) / (populationStd / np.sqrt(len(data)))\n",
    "\n",
    "pValue = stats.norm.sf(abs(z))\n",
    "\n",
    "print(\"one-tailed: {:.1f}%\".format(pValue*100))\n",
    "print(\"two-tailed: {:.1f}%\".format(pValue*2*100))"
   ]
  },
  {
   "cell_type": "markdown",
   "metadata": {},
   "source": [
    "# 1-sample t-test for mean\n",
    "\n",
    "Sources:<br/>\n",
    "&nbsp;&nbsp;&nbsp;&nbsp;<a href=\"https://www.youtube.com/watch?v=Z8E3hi8INZk\">zedstatistics - Youtube</a><br/>\n",
    "&nbsp;&nbsp;&nbsp;&nbsp;<a href=\"https://www.youtube.com/watch?v=zJ8e_wAWUzE\">The Organic Chemistry Tutor - Youtube</a>\n",
    "\n",
    "$$\n",
    "t=\\frac{\\bar{x}-\\mu}{\\frac{s}{\\sqrt{n}}} \\hspace{2em} df=n-1\n",
    "$$\n",
    "\n",
    "$$\n",
    "\\begin{array}{l}\n",
    "t - \\text{t-statistic} \\\\\n",
    "\\bar{x} - \\text{samples mean} \\\\\n",
    "\\mu - \\text{population mean} \\\\\n",
    "s - \\text{samples standard deviation} \\\\\n",
    "n - \\text{number of samples} \\\\\n",
    "df - \\text{degrees of freedom}\n",
    "\\end{array}\n",
    "$$"
   ]
  },
  {
   "cell_type": "code",
   "execution_count": null,
   "metadata": {},
   "outputs": [],
   "source": [
    "data = np.random.normal(loc=3.6, size=25)\n",
    "populationMean = 4"
   ]
  },
  {
   "cell_type": "code",
   "execution_count": 38,
   "metadata": {},
   "outputs": [
    {
     "name": "stdout",
     "output_type": "stream",
     "text": [
      "one-tailed: 11.0%\n",
      "two-tailed: 22.0%\n"
     ]
    }
   ],
   "source": [
    "result = stats.ttest_1samp(data, populationMean)\n",
    "\n",
    "print(\"one-tailed: {:.1f}%\".format(result.pvalue*100))\n",
    "print(\"two-tailed: {:.1f}%\".format(result.pvalue*2*100))"
   ]
  },
  {
   "cell_type": "markdown",
   "metadata": {},
   "source": [
    "# 1-sample z-test for proportions\n",
    "\n",
    "Sources:<br/>\n",
    "&nbsp;&nbsp;&nbsp;&nbsp;<a href=\"https://www.youtube.com/watch?v=bh_5Yr3YjO0\">zedstatistics - Youtube</a><br/>\n",
    "&nbsp;&nbsp;&nbsp;&nbsp;<a href=\"https://www.youtube.com/watch?v=76VruarGn2Q\">The Organic Chemistry Tutor - Youtube</a>\n",
    "\n",
    "$$\n",
    "z=\\frac{\\hat{p}-p}{\\sqrt{\\frac{p(1-p)}{n}}}\n",
    "$$\n",
    "\n",
    "$$\n",
    "\\begin{array}{l}\n",
    "z - \\text{z-statistic} \\\\\n",
    "\\hat{p} - \\text{proportion for samples} \\\\\n",
    "p - \\text{proportion for population} \\\\\n",
    "n - \\text{number of samples}\n",
    "\\end{array}\n",
    "$$"
   ]
  },
  {
   "cell_type": "code",
   "execution_count": 61,
   "metadata": {},
   "outputs": [],
   "source": [
    "from statsmodels.stats.proportion import proportions_ztest"
   ]
  },
  {
   "cell_type": "code",
   "execution_count": 157,
   "metadata": {},
   "outputs": [],
   "source": [
    "data = np.random.normal(scale=1, size=100)\n",
    "nSuccesses = (data < 1).sum()\n",
    "nSamples = len(data)\n",
    "popProportion = 0.9 # normally 0.84"
   ]
  },
  {
   "cell_type": "code",
   "execution_count": 158,
   "metadata": {},
   "outputs": [
    {
     "name": "stdout",
     "output_type": "stream",
     "text": [
      "p-value: 3.7%\n"
     ]
    }
   ],
   "source": [
    "result = proportions_ztest(count=nSuccesses, nobs=nSamples, value=popProportion)\n",
    "\n",
    "print(\"p-value: {:.1f}%\".format(result[1]*100))"
   ]
  },
  {
   "cell_type": "markdown",
   "metadata": {},
   "source": [
    "# 2-sample independent test for mean\n",
    "\n",
    "Sources:<br/>\n",
    "&nbsp;&nbsp;&nbsp;&nbsp;<a href=\"https://www.youtube.com/watch?v=UcZwyzwWU7o\">The Organic Chemistry Tutor - Youtube</a>\n",
    "\n",
    "$$\n",
    "t=\\frac{\\overline{x}_A-\\overline{x}_B}{\\sqrt{\\frac{s_A^2}{n_A}+\\frac{s_B^2}{n_B}}} \\hspace{2em} df=n_A+n_B-2\n",
    "$$\n",
    "\n",
    "$$\n",
    "\\begin{array}{l}\n",
    "t - \\text{t-statistic} \\\\\n",
    "\\overline{x}_A - \\text{mean of A group samples} \\\\\n",
    "\\overline{x}_B - \\text{mean of B group samples} \\\\\n",
    "s_A - \\text{standard deviation of A group samples} \\\\\n",
    "s_B - \\text{standard deviation of B group samples} \\\\\n",
    "n_A - \\text{number of sample in A group} \\\\\n",
    "n_B - \\text{number of sample in B group} \\\\\n",
    "df - \\text{degrees of freedom}\n",
    "\\end{array}\n",
    "$$"
   ]
  },
  {
   "cell_type": "code",
   "execution_count": 150,
   "metadata": {},
   "outputs": [],
   "source": [
    "group1Data = np.random.normal(loc=3.8, size=25)\n",
    "group2Data = np.random.normal(loc=4.2, size=30)"
   ]
  },
  {
   "cell_type": "code",
   "execution_count": 152,
   "metadata": {},
   "outputs": [
    {
     "name": "stdout",
     "output_type": "stream",
     "text": [
      "p-value: 7.2%\n"
     ]
    }
   ],
   "source": [
    "result = stats.ttest_ind(group1Data, group2Data)\n",
    "\n",
    "print(\"p-value: {:.1f}%\".format(result.pvalue*100))"
   ]
  },
  {
   "cell_type": "markdown",
   "metadata": {},
   "source": [
    "# 2-sample independent test for proportions\n",
    "\n",
    "Sources:<br/>\n",
    "&nbsp;&nbsp;&nbsp;&nbsp;<a href=\"https://www.youtube.com/watch?v=pCbNUnZ98oE\">The Organic Chemistry Tutor - Youtube</a>\n",
    "\n",
    "$$\n",
    "z=\\frac{\\hat{p}_1-\\hat{p}_2}{\\sqrt{\\hat{p}(1-\\hat{p})(\\frac{1}{n_1}+\\frac{1}{n_2})}} \\hspace{2em} \\hat{p}=\\frac{x_1+x_2}{n_1+n_2}\n",
    "$$\n",
    "\n",
    "$$\n",
    "\\begin{array}{l}\n",
    "z - \\text{z-statistic} \\\\\n",
    "x_1 - \\text{number of sample in first group that meet the condition} \\\\\n",
    "x_2 - \\text{number of sample in second group that meet the condition} \\\\\n",
    "n_1 - \\text{number of sample in first group} \\\\\n",
    "n_2 - \\text{number of sample in second group} \\\\\n",
    "\\hat{p}_1 - \\text{proportion for first group} \\\\\n",
    "\\hat{p}_2 - \\text{proportion for second group} \\\\\n",
    "\\hat{p} - \\text{pooled proportion}\n",
    "\\end{array}\n",
    "$$"
   ]
  },
  {
   "cell_type": "code",
   "execution_count": 145,
   "metadata": {},
   "outputs": [],
   "source": [
    "group1Data = np.random.normal(loc=0, size=25)\n",
    "nSuccessesGroup1 = (group1Data < 1).sum()\n",
    "nSamplesGroup1 = len(group1Data)\n",
    "\n",
    "group2Data = np.random.normal(loc=0.5, size=30)\n",
    "nSuccessesGroup2 = (group2Data < 1).sum()\n",
    "nSamplesGroup2 = len(group2Data)"
   ]
  },
  {
   "cell_type": "code",
   "execution_count": 147,
   "metadata": {},
   "outputs": [
    {
     "name": "stdout",
     "output_type": "stream",
     "text": [
      "p-value: 1.1%\n"
     ]
    }
   ],
   "source": [
    "result = proportions_ztest(count=[nSuccessesGroup1, nSuccessesGroup2], nobs=[nSamplesGroup1, nSamplesGroup2])\n",
    "\n",
    "print(\"p-value: {:.1f}%\".format(result[1]*100))"
   ]
  },
  {
   "cell_type": "markdown",
   "metadata": {},
   "source": [
    "# chi-squared test\n",
    "\n",
    "Sources:<br/>\n",
    "&nbsp;&nbsp;&nbsp;&nbsp;<a href=\"https://www.youtube.com/watch?v=NTHA9Qa81R8\">zedstatistics - Youtube</a><br/>\n",
    "&nbsp;&nbsp;&nbsp;&nbsp;<a href=\"https://www.youtube.com/watch?v=HKDqlYSLt68\">The Organic Chemistry Tutor - Youtube</a><br/>\n",
    "&nbsp;&nbsp;&nbsp;&nbsp;<a href=\"https://www.geeksforgeeks.org/python-pearsons-chi-square-test/\">Geeks for Geeks</a>\n",
    "\n",
    "$$\n",
    "\\chi^2=\\sum_{i=1}^k\\frac{(o_i-e_i)^2}{e_i} \\hspace{2em} df=(n_{cols}-1)(n_{rows}-1)\n",
    "$$\n",
    "\n",
    "$$\n",
    "\\begin{array}{l}\n",
    "\\chi^2 - \\text{suared chi statistic} \\\\\n",
    "o_i - \\text{observed value on }i\\text{-th position} \\\\\n",
    "e_i - \\text{expected value on }i\\text{-th position} \\\\\n",
    "df - \\text{degrees of freedom}\n",
    "\\end{array}\n",
    "$$"
   ]
  },
  {
   "cell_type": "code",
   "execution_count": 160,
   "metadata": {},
   "outputs": [],
   "source": [
    "from scipy.stats import chi2_contingency"
   ]
  },
  {
   "cell_type": "code",
   "execution_count": 159,
   "metadata": {},
   "outputs": [
    {
     "data": {
      "text/html": [
       "<div>\n",
       "<style scoped>\n",
       "    .dataframe tbody tr th:only-of-type {\n",
       "        vertical-align: middle;\n",
       "    }\n",
       "\n",
       "    .dataframe tbody tr th {\n",
       "        vertical-align: top;\n",
       "    }\n",
       "\n",
       "    .dataframe thead th {\n",
       "        text-align: right;\n",
       "    }\n",
       "</style>\n",
       "<table border=\"1\" class=\"dataframe\">\n",
       "  <thead>\n",
       "    <tr style=\"text-align: right;\">\n",
       "      <th></th>\n",
       "      <th>men</th>\n",
       "      <th>women</th>\n",
       "    </tr>\n",
       "  </thead>\n",
       "  <tbody>\n",
       "    <tr>\n",
       "      <th>dog</th>\n",
       "      <td>207</td>\n",
       "      <td>234</td>\n",
       "    </tr>\n",
       "    <tr>\n",
       "      <th>cat</th>\n",
       "      <td>282</td>\n",
       "      <td>242</td>\n",
       "    </tr>\n",
       "    <tr>\n",
       "      <th>bird</th>\n",
       "      <td>241</td>\n",
       "      <td>232</td>\n",
       "    </tr>\n",
       "  </tbody>\n",
       "</table>\n",
       "</div>"
      ],
      "text/plain": [
       "      men  women\n",
       "dog   207    234\n",
       "cat   282    242\n",
       "bird  241    232"
      ]
     },
     "execution_count": 159,
     "metadata": {},
     "output_type": "execute_result"
    }
   ],
   "source": [
    "data = pd.DataFrame({'men':[207, 282, 241], 'women':[234, 242, 232]}, index=['dog', 'cat', 'bird'])\n",
    "data"
   ]
  },
  {
   "cell_type": "code",
   "execution_count": 163,
   "metadata": {},
   "outputs": [
    {
     "name": "stdout",
     "output_type": "stream",
     "text": [
      "p-value: 10.3%\n"
     ]
    }
   ],
   "source": [
    "result = chi2_contingency(data)\n",
    "\n",
    "print(\"p-value: {:.1f}%\".format(result.pvalue*100))"
   ]
  },
  {
   "cell_type": "markdown",
   "metadata": {},
   "source": [
    "# oneway ANOVA test\n",
    "\n",
    "Sources:<br/>\n",
    "&nbsp;&nbsp;&nbsp;&nbsp;<a href=\"https://www.youtube.com/watch?v=9cnSWads6oo\">zedstatistics</a><br/>\n",
    "&nbsp;&nbsp;&nbsp;&nbsp;<a href=\"https://chat.openai.com/share/d6d40a73-3081-4483-8d92-2573c7d8630c\">Chat GPT</a>\n",
    "\n",
    "$$\n",
    "SSB=\\sum_{i=1}^kn_i(\\bar{X}_i-\\bar{X})^2\n",
    "$$\n",
    "$$\n",
    "SSW=\\sum_{i=1}^k\\sum_{j=1}^{n_i}(X_{ij}-\\bar{X}_i)^2\n",
    "$$\n",
    "$$\n",
    "MSB=\\frac{SSB}{df_B} \\hspace{2em} df_B=k-1\n",
    "$$\n",
    "$$\n",
    "MSW=\\frac{SSW}{df_W} \\hspace{2em} df_W=N-k\n",
    "$$\n",
    "$$\n",
    "F = \\frac{MSB}{MSW}\n",
    "$$\n",
    "$$\n",
    "\\begin{array}{rl}\n",
    "\\begin{array}{l}\n",
    "SSB - \\text{sum of squares between groups} \\\\\n",
    "SSW - \\text{sum of squares within groups} \\\\\n",
    "df_B - \\text{degrees of freedom between groups} \\\\\n",
    "df_W - \\text{degrees of freedom within groups} \\\\\n",
    "MSB - \\text{mean square between groups} \\\\\n",
    "MSW - \\text{mean square within groups} \\\\\n",
    "F - \\text{f-statistic}\n",
    "\\end{array} &\n",
    "\\begin{array}{l}\n",
    "n_i - \\text{number of sample in group} i \\\\\n",
    "\\bar{X}_i - \\text{mean in group} i \\\\\n",
    "\\bar{X} - \\text{mean for all groups} \\\\\n",
    "X_{ij} - j\\text{-th observation in group} i \\\\\n",
    "k - \\text{number of groups} \\\\\n",
    "N - \\text{total number of all observations.}\n",
    "\\end{array}\n",
    "\\end{array}\n",
    "$$"
   ]
  },
  {
   "cell_type": "code",
   "execution_count": 174,
   "metadata": {},
   "outputs": [],
   "source": [
    "data = pd.DataFrame({\n",
    "    'group1': [1, 2, 3],\n",
    "    'group2': [2, 3, 4],\n",
    "    'group3': [3, 4, 5],\n",
    "    'group4': [4, 5, 6]\n",
    "})"
   ]
  },
  {
   "cell_type": "code",
   "execution_count": 175,
   "metadata": {},
   "outputs": [
    {
     "name": "stdout",
     "output_type": "stream",
     "text": [
      "p-value: 3.1%\n"
     ]
    }
   ],
   "source": [
    "result = stats.f_oneway(*data.to_numpy().T.tolist())\n",
    "\n",
    "print(\"p-value: {:.1f}%\".format(result.pvalue*100))"
   ]
  }
 ],
 "metadata": {
  "kernelspec": {
   "display_name": "Python 3",
   "language": "python",
   "name": "python3"
  },
  "language_info": {
   "codemirror_mode": {
    "name": "ipython",
    "version": 3
   },
   "file_extension": ".py",
   "mimetype": "text/x-python",
   "name": "python",
   "nbconvert_exporter": "python",
   "pygments_lexer": "ipython3",
   "version": "3.11.5"
  }
 },
 "nbformat": 4,
 "nbformat_minor": 2
}
