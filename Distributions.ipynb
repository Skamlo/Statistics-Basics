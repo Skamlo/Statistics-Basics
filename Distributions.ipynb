{
 "cells": [
  {
   "cell_type": "markdown",
   "metadata": {},
   "source": [
    "# Libraries"
   ]
  },
  {
   "cell_type": "code",
   "execution_count": 2,
   "metadata": {},
   "outputs": [],
   "source": [
    "import numpy as np\n",
    "import pandas as pd\n",
    "import matplotlib.pyplot as plt\n",
    "from scipy import stats"
   ]
  },
  {
   "cell_type": "markdown",
   "metadata": {},
   "source": [
    "# Binomial distribution\n",
    "\n",
    "Describe a number of $k$ successes in sequence of $n$ independent experiments.\n",
    "\n",
    "Sources:<br>\n",
    "- <a href=\"https://en.wikipedia.org/wiki/Binomial_distribution\">Wikipedia</a>\n",
    "\n",
    "$$\n",
    "X \\sim B(n, p)\n",
    "$$\n",
    "\n",
    "$$\n",
    "P(A) = \\left( \\begin{array}{c} n \\\\ k \\end{array} \\right) \\cdot p^k \\cdot (1-p)^{n-k}\n",
    "$$\n",
    "\n",
    "$$\n",
    "E(X)=np \\hspace{3em} Var(X)=np(1-p)\n",
    "$$"
   ]
  },
  {
   "cell_type": "code",
   "execution_count": null,
   "metadata": {},
   "outputs": [],
   "source": []
  },
  {
   "cell_type": "markdown",
   "metadata": {},
   "source": [
    "# Negative binomial distribution\n",
    "\n",
    "Sources:<br>\n",
    "- <a href=\"https://en.wikipedia.org/wiki/Negative_binomial_distribution\">Wikipedia</a>\n",
    "- <a href=\"https://www.youtube.com/watch?v=8idr1WZ1A7Q\">3Blue1Brown</a>\n",
    "\n",
    "$$\n",
    "X \\sim NB(r, p)\n",
    "$$\n",
    "\n",
    "$$\n",
    "P(A) = \\left( \\begin{array}{c} r+k-1 \\\\ r \\end{array} \\right) \\cdot p^k \\cdot (1-p)^r\n",
    "$$\n",
    "\n",
    "$$\n",
    "E(X)=\\frac{rp}{1-p} \\hspace{3em} Var(X)=\\frac{rp}{(1-p)^2}\n",
    "$$"
   ]
  },
  {
   "cell_type": "code",
   "execution_count": null,
   "metadata": {},
   "outputs": [],
   "source": []
  },
  {
   "cell_type": "markdown",
   "metadata": {},
   "source": [
    "# Geometric distribution\n",
    "\n",
    "Sources:<br>\n",
    "- <a href=\"https://en.wikipedia.org/wiki/Geometric_distribution\">Wikipedia</a>\n",
    "\n",
    "$$\n",
    "X \\sim G(p)\n",
    "$$\n",
    "\n",
    "$$\n",
    "P(A) = (1-p)^{k-1} \\cdot p\n",
    "$$\n",
    "\n",
    "$$\n",
    "E(X)=\\frac{1}{p} \\hspace{3em} Var(X)=\\frac{1-p}{p^2}\n",
    "$$"
   ]
  },
  {
   "cell_type": "code",
   "execution_count": null,
   "metadata": {},
   "outputs": [],
   "source": []
  },
  {
   "cell_type": "markdown",
   "metadata": {},
   "source": [
    "# Poisson distribution\n",
    "\n",
    "Sources:<br>\n",
    "- <a href=\"https://en.wikipedia.org/wiki/Poisson_distribution\">Wikipedia</a>\n",
    "\n",
    "$$\n",
    "X \\sim Pois(\\lambda)\n",
    "$$\n",
    "\n",
    "$$\n",
    "P(A) = \\frac{\\lambda^k}{k!}e^{-\\lambda}\n",
    "$$\n",
    "\n",
    "$$\n",
    "E(X)=\\lambda \\hspace{3em} Var(X)=\\lambda\n",
    "$$"
   ]
  },
  {
   "cell_type": "code",
   "execution_count": null,
   "metadata": {},
   "outputs": [],
   "source": []
  },
  {
   "cell_type": "markdown",
   "metadata": {},
   "source": [
    "# Continuous uniform distribution\n",
    "\n",
    "Sources:<br>\n",
    "- <a href=\"https://en.wikipedia.org/wiki/Continuous_uniform_distribution\">Wikipedia</a>\n",
    "\n",
    "$$\n",
    "X \\sim U\\left[a, b\\right]\n",
    "$$\n",
    "\n",
    "$$\n",
    "f(x) = \\Biggl\\{\n",
    "\\begin{array}{cll}\n",
    "    \\frac{1}{b-a} & \\text{for} & a \\leq x \\leq b, \\\\\n",
    "    0 & \\text{for} & x < a \\hspace{0.5em} \\text{or} \\hspace{0.5em} x > b\n",
    "\\end{array}\n",
    "$$\n",
    "\n",
    "$$\n",
    "E(X)=\\frac{a+b}{2} \\hspace{3em} Var(X)=\\frac{(b-a)^2}{12}\n",
    "$$"
   ]
  },
  {
   "cell_type": "code",
   "execution_count": null,
   "metadata": {},
   "outputs": [],
   "source": []
  },
  {
   "cell_type": "markdown",
   "metadata": {},
   "source": [
    "# Exponential distribution\n",
    "\n",
    "Sources:<br>\n",
    "- <a href=\"https://en.wikipedia.org/wiki/Exponential_distribution\">Wikipedia</a>\n",
    "\n",
    "$$\n",
    "X \\sim Exp(\\lambda)\n",
    "$$\n",
    "\n",
    "$$\n",
    "f(x) = \\Biggl\\{\n",
    "\\begin{array}{cll}\n",
    "    \\lambda e^{-\\lambda x} & \\text{for} & x \\geq 0, \\\\\n",
    "    0 & \\text{for} & x < 0\n",
    "\\end{array}\n",
    "$$\n",
    "\n",
    "$$\n",
    "E(X)=\\frac{1}{\\lambda} \\hspace{3em} Var(X)=\\frac{1}{\\lambda^2}\n",
    "$$"
   ]
  },
  {
   "cell_type": "code",
   "execution_count": null,
   "metadata": {},
   "outputs": [],
   "source": []
  },
  {
   "cell_type": "markdown",
   "metadata": {},
   "source": [
    "# Normal distribution\n",
    "\n",
    "Sources:<br>\n",
    "- <a href=\"https://en.wikipedia.org/wiki/Normal_distribution\">Wikipedia</a>\n",
    "\n",
    "$$\n",
    "X \\sim N(\\mu, \\sigma)\n",
    "$$\n",
    "\n",
    "$$\n",
    "f(x) = \\frac{1}{\\sqrt{2 \\pi} \\sigma} e^{ - \\large{ \\frac{ \\left( x - \\mu \\right)^2 }{ 2\\sigma^2 } } }\n",
    "$$\n",
    "\n",
    "$$\n",
    "E(X)=\\mu \\hspace{3em} Var(X)=\\sigma^2\n",
    "$$"
   ]
  },
  {
   "cell_type": "code",
   "execution_count": null,
   "metadata": {},
   "outputs": [],
   "source": []
  },
  {
   "cell_type": "markdown",
   "metadata": {},
   "source": [
    "# Student's t-distribution\n",
    "\n",
    "Sources:<br>\n",
    "- <a href=\"https://en.wikipedia.org/wiki/Student%27s_t-distribution\">Wikipedia</a>\n",
    "- <a href=\"https://www.jarad.me/courses/stat587Eng/slides/Probability/Distributions/Students_t/Students_t.pdf\">Iowa State University</a>\n",
    "- <a href=\"https://statproofbook.github.io/P/t-pdf.html\">The Book of Statistical Proofs</a>\n",
    "\n",
    "$$\n",
    "X \\sim t_{\\nu}\n",
    "$$\n",
    "\n",
    "$$\n",
    "f(t) = \\frac{ \\Gamma \\left( \\frac{\\nu + 1}{2} \\right) }{ \\sqrt{\\pi \\nu} \\hspace{0.4em} \\Gamma \\left( \\frac{\\nu}{2} \\right) }\n",
    "\\left( 1 + \\frac{t^2}{\\nu} \\right)^{ -\\large{ \\frac{\\nu + 1}{2} } }\n",
    "\\hspace{3em}\n",
    "\\Gamma(z) = \\int_{0}^{\\infty} t^{z-1} e^{-1} \\hspace{0.25em} dt\n",
    "$$\n",
    "\n",
    "$$\n",
    "E(X)=0 \\hspace{3em} Var(X)=\\frac{\\nu}{\\nu - 2}\n",
    "$$"
   ]
  },
  {
   "cell_type": "code",
   "execution_count": null,
   "metadata": {},
   "outputs": [],
   "source": []
  },
  {
   "cell_type": "markdown",
   "metadata": {},
   "source": [
    "# Chi-squared distribution\n",
    "\n",
    "Sources:<br>\n",
    "- <a href=\"https://en.wikipedia.org/wiki/Chi-squared_distribution\">Wikipedia</a>\n",
    "\n",
    "$$\n",
    "X \\sim \\chi_{k}^{2}\n",
    "$$\n",
    "\n",
    "$$\n",
    "f(x) = \\frac{1}{ \\large{ 2^{\\frac{k}{2}} } \\hspace{0.25em} \\Gamma \\left( \\frac{k}{2} \\right) } \\hspace{0.5em} \\large{ x^{\\frac{k}{2}-1} e^{-\\frac{x}{2}} }\n",
    "$$\n",
    "\n",
    "$$\n",
    "E(X)=k \\hspace{3em} Var(X)=2k\n",
    "$$"
   ]
  },
  {
   "cell_type": "code",
   "execution_count": null,
   "metadata": {},
   "outputs": [],
   "source": []
  }
 ],
 "metadata": {
  "kernelspec": {
   "display_name": "Python 3",
   "language": "python",
   "name": "python3"
  },
  "language_info": {
   "codemirror_mode": {
    "name": "ipython",
    "version": 3
   },
   "file_extension": ".py",
   "mimetype": "text/x-python",
   "name": "python",
   "nbconvert_exporter": "python",
   "pygments_lexer": "ipython3",
   "version": "3.12.2"
  }
 },
 "nbformat": 4,
 "nbformat_minor": 2
}
